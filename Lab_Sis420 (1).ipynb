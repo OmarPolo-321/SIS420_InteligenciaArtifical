{
  "cells": [
    {
      "cell_type": "code",
      "source": [
        "# utilizado para manejos de directorios y rutas\n",
        "import os\n",
        "\n",
        "# Computacion vectorial y cientifica para python\n",
        "import numpy as np\n",
        "\n",
        "# Librerias para graficación (trazado de gráficos)\n",
        "from matplotlib import pyplot\n",
        "from mpl_toolkits.mplot3d import Axes3D  # Necesario para graficar superficies 3D\n",
        "\n",
        "# llama a matplotlib a embeber graficas dentro de los cuadernillos\n",
        "%matplotlib inline"
      ],
      "metadata": {
        "id": "POi5eN0bPluF"
      },
      "execution_count": 52,
      "outputs": []
    },
    {
      "cell_type": "code",
      "source": [
        "import pandas as pd\n",
        "from sklearn.preprocessing import LabelEncoder\n",
        "# Importar libreria para dividir entrenamiento y prueba\n",
        "from sklearn.model_selection import train_test_split"
      ],
      "metadata": {
        "id": "nNTHC5wzP1DQ"
      },
      "execution_count": 53,
      "outputs": []
    },
    {
      "cell_type": "code",
      "source": [
        "#Carga de dataset\n",
        "data = pd.read_csv('/content/Bank_registries.csv')"
      ],
      "metadata": {
        "id": "nSG7TxY-P5YD"
      },
      "execution_count": 54,
      "outputs": []
    },
    {
      "cell_type": "code",
      "source": [
        "print(data)"
      ],
      "metadata": {
        "id": "da_Z9S5zQGD6",
        "outputId": "ff9a8830-ce0b-48ca-ede9-aec4d14cdcdd",
        "colab": {
          "base_uri": "https://localhost:8080/"
        }
      },
      "execution_count": 55,
      "outputs": [
        {
          "output_type": "stream",
          "name": "stdout",
          "text": [
            "      RowNumber  CustomerId    Surname  CreditScore Geography  Gender  Age  \\\n",
            "0             1    15634602   Hargrave          619    France  Female   42   \n",
            "1             2    15647311       Hill          608     Spain  Female   41   \n",
            "2             3    15619304       Onio          502    France  Female   42   \n",
            "3             4    15701354       Boni          699    France  Female   39   \n",
            "4             5    15737888   Mitchell          850     Spain  Female   43   \n",
            "...         ...         ...        ...          ...       ...     ...  ...   \n",
            "9995       9996    15606229   Obijiaku          771    France    Male   39   \n",
            "9996       9997    15569892  Johnstone          516    France    Male   35   \n",
            "9997       9998    15584532        Liu          709    France  Female   36   \n",
            "9998       9999    15682355  Sabbatini          772   Germany    Male   42   \n",
            "9999      10000    15628319     Walker          792    France  Female   28   \n",
            "\n",
            "      Tenure    Balance  NumOfProducts  HasCrCard  IsActiveMember  \\\n",
            "0          2       0.00              1          1               1   \n",
            "1          1   83807.86              1          0               1   \n",
            "2          8  159660.80              3          1               0   \n",
            "3          1       0.00              2          0               0   \n",
            "4          2  125510.82              1          1               1   \n",
            "...      ...        ...            ...        ...             ...   \n",
            "9995       5       0.00              2          1               0   \n",
            "9996      10   57369.61              1          1               1   \n",
            "9997       7       0.00              1          0               1   \n",
            "9998       3   75075.31              2          1               0   \n",
            "9999       4  130142.79              1          1               0   \n",
            "\n",
            "      EstimatedSalary  Exited  \n",
            "0           101348.88       1  \n",
            "1           112542.58       0  \n",
            "2           113931.57       1  \n",
            "3            93826.63       0  \n",
            "4            79084.10       0  \n",
            "...               ...     ...  \n",
            "9995         96270.64       0  \n",
            "9996        101699.77       0  \n",
            "9997         42085.58       1  \n",
            "9998         92888.52       1  \n",
            "9999         38190.78       0  \n",
            "\n",
            "[10000 rows x 14 columns]\n"
          ]
        }
      ]
    },
    {
      "cell_type": "code",
      "source": [
        "data.info()"
      ],
      "metadata": {
        "colab": {
          "base_uri": "https://localhost:8080/"
        },
        "id": "2kYH8JDMUOv-",
        "outputId": "145077e1-2d8b-4691-bcbd-d42c1ebacff0"
      },
      "execution_count": 56,
      "outputs": [
        {
          "output_type": "stream",
          "name": "stdout",
          "text": [
            "<class 'pandas.core.frame.DataFrame'>\n",
            "RangeIndex: 10000 entries, 0 to 9999\n",
            "Data columns (total 14 columns):\n",
            " #   Column           Non-Null Count  Dtype  \n",
            "---  ------           --------------  -----  \n",
            " 0   RowNumber        10000 non-null  int64  \n",
            " 1   CustomerId       10000 non-null  int64  \n",
            " 2   Surname          10000 non-null  object \n",
            " 3   CreditScore      10000 non-null  int64  \n",
            " 4   Geography        10000 non-null  object \n",
            " 5   Gender           10000 non-null  object \n",
            " 6   Age              10000 non-null  int64  \n",
            " 7   Tenure           10000 non-null  int64  \n",
            " 8   Balance          10000 non-null  float64\n",
            " 9   NumOfProducts    10000 non-null  int64  \n",
            " 10  HasCrCard        10000 non-null  int64  \n",
            " 11  IsActiveMember   10000 non-null  int64  \n",
            " 12  EstimatedSalary  10000 non-null  float64\n",
            " 13  Exited           10000 non-null  int64  \n",
            "dtypes: float64(2), int64(9), object(3)\n",
            "memory usage: 1.1+ MB\n"
          ]
        }
      ]
    },
    {
      "cell_type": "code",
      "source": [
        "#variables categoricas\n",
        "columnas_categoricas = data.select_dtypes(include=['object']).columns"
      ],
      "metadata": {
        "id": "S7_CP9z7UttG"
      },
      "execution_count": 57,
      "outputs": []
    },
    {
      "cell_type": "code",
      "source": [
        "#Procesamiento de frases o palabras\n",
        "for columna in columnas_categoricas:\n",
        "  le = LabelEncoder()\n",
        "  data[columna] = le.fit_transform(data[columna])"
      ],
      "metadata": {
        "id": "3-u9uzzbUu9V"
      },
      "execution_count": 58,
      "outputs": []
    },
    {
      "cell_type": "code",
      "source": [
        "#resultado\n",
        "print(data)"
      ],
      "metadata": {
        "id": "RO0rvxx_UyvC",
        "outputId": "fb45f51e-51eb-425b-9146-a0656cc5661a",
        "colab": {
          "base_uri": "https://localhost:8080/"
        }
      },
      "execution_count": 59,
      "outputs": [
        {
          "output_type": "stream",
          "name": "stdout",
          "text": [
            "      RowNumber  CustomerId  Surname  CreditScore  Geography  Gender  Age  \\\n",
            "0             1    15634602     1115          619          0       0   42   \n",
            "1             2    15647311     1177          608          2       0   41   \n",
            "2             3    15619304     2040          502          0       0   42   \n",
            "3             4    15701354      289          699          0       0   39   \n",
            "4             5    15737888     1822          850          2       0   43   \n",
            "...         ...         ...      ...          ...        ...     ...  ...   \n",
            "9995       9996    15606229     1999          771          0       1   39   \n",
            "9996       9997    15569892     1336          516          0       1   35   \n",
            "9997       9998    15584532     1570          709          0       0   36   \n",
            "9998       9999    15682355     2345          772          1       1   42   \n",
            "9999      10000    15628319     2751          792          0       0   28   \n",
            "\n",
            "      Tenure    Balance  NumOfProducts  HasCrCard  IsActiveMember  \\\n",
            "0          2       0.00              1          1               1   \n",
            "1          1   83807.86              1          0               1   \n",
            "2          8  159660.80              3          1               0   \n",
            "3          1       0.00              2          0               0   \n",
            "4          2  125510.82              1          1               1   \n",
            "...      ...        ...            ...        ...             ...   \n",
            "9995       5       0.00              2          1               0   \n",
            "9996      10   57369.61              1          1               1   \n",
            "9997       7       0.00              1          0               1   \n",
            "9998       3   75075.31              2          1               0   \n",
            "9999       4  130142.79              1          1               0   \n",
            "\n",
            "      EstimatedSalary  Exited  \n",
            "0           101348.88       1  \n",
            "1           112542.58       0  \n",
            "2           113931.57       1  \n",
            "3            93826.63       0  \n",
            "4            79084.10       0  \n",
            "...               ...     ...  \n",
            "9995         96270.64       0  \n",
            "9996        101699.77       0  \n",
            "9997         42085.58       1  \n",
            "9998         92888.52       1  \n",
            "9999         38190.78       0  \n",
            "\n",
            "[10000 rows x 14 columns]\n"
          ]
        }
      ]
    },
    {
      "cell_type": "code",
      "source": [
        "#Eliminar las columnas\n",
        "columnas_eliminar = ['RowNumber' , 'CustomerId',  'Surname']\n",
        "data = data.drop(columnas_eliminar, axis=1)\n",
        "print(data)"
      ],
      "metadata": {
        "colab": {
          "base_uri": "https://localhost:8080/"
        },
        "id": "n_j1vVR6Xazy",
        "outputId": "ec4e9d5f-6762-4696-edc2-dc6b2c26c3df"
      },
      "execution_count": 60,
      "outputs": [
        {
          "output_type": "stream",
          "name": "stdout",
          "text": [
            "      CreditScore  Geography  Gender  Age  Tenure    Balance  NumOfProducts  \\\n",
            "0             619          0       0   42       2       0.00              1   \n",
            "1             608          2       0   41       1   83807.86              1   \n",
            "2             502          0       0   42       8  159660.80              3   \n",
            "3             699          0       0   39       1       0.00              2   \n",
            "4             850          2       0   43       2  125510.82              1   \n",
            "...           ...        ...     ...  ...     ...        ...            ...   \n",
            "9995          771          0       1   39       5       0.00              2   \n",
            "9996          516          0       1   35      10   57369.61              1   \n",
            "9997          709          0       0   36       7       0.00              1   \n",
            "9998          772          1       1   42       3   75075.31              2   \n",
            "9999          792          0       0   28       4  130142.79              1   \n",
            "\n",
            "      HasCrCard  IsActiveMember  EstimatedSalary  Exited  \n",
            "0             1               1        101348.88       1  \n",
            "1             0               1        112542.58       0  \n",
            "2             1               0        113931.57       1  \n",
            "3             0               0         93826.63       0  \n",
            "4             1               1         79084.10       0  \n",
            "...         ...             ...              ...     ...  \n",
            "9995          1               0         96270.64       0  \n",
            "9996          1               1        101699.77       0  \n",
            "9997          0               1         42085.58       1  \n",
            "9998          1               0         92888.52       1  \n",
            "9999          1               0         38190.78       0  \n",
            "\n",
            "[10000 rows x 11 columns]\n"
          ]
        }
      ]
    },
    {
      "cell_type": "code",
      "source": [
        "# Division de dataset en entrenamiento y prueba\n",
        "train_data, test_data = train_test_split(data, test_size=0.2, random_state=42)\n",
        "# el índice debe ser entero\n",
        "#training_size = int(m * 0.8)\n",
        "\n",
        "# seleccionamos el primer 80%\n",
        "#X_train = X[:training_size]\n",
        "#y_train = y[:training_size]\n",
        "\n",
        "# y el 20% restante\n",
        "#X_test = X[training_size:]\n",
        "#y_test = y[training_size:]\n",
        "\n",
        "#print(f\"Número de datos de entrenamiento: {len(X_train)}, y de prueba: {len(X_test)}\")"
      ],
      "metadata": {
        "id": "WD4eEI8VTY0u"
      },
      "execution_count": 61,
      "outputs": []
    },
    {
      "cell_type": "code",
      "source": [
        "print(test_data)"
      ],
      "metadata": {
        "colab": {
          "base_uri": "https://localhost:8080/"
        },
        "id": "GdGPJHX2Tiak",
        "outputId": "18ae7b1f-5d49-44b5-9b52-7d515b2f2952"
      },
      "execution_count": 62,
      "outputs": [
        {
          "output_type": "stream",
          "name": "stdout",
          "text": [
            "      CreditScore  Geography  Gender  Age  Tenure    Balance  NumOfProducts  \\\n",
            "6252          596          1       1   32       3   96709.07              2   \n",
            "4684          623          0       1   43       1       0.00              2   \n",
            "1731          601          2       0   44       4       0.00              2   \n",
            "4742          506          1       1   59       8  119152.10              2   \n",
            "4521          560          2       0   27       7  124995.98              1   \n",
            "...           ...        ...     ...  ...     ...        ...            ...   \n",
            "6412          602          1       0   53       5   98268.84              1   \n",
            "8285          609          0       1   25      10       0.00              1   \n",
            "7853          730          0       0   47       7       0.00              1   \n",
            "1095          692          0       1   29       4       0.00              1   \n",
            "6929          628          1       1   39       1  115341.19              1   \n",
            "\n",
            "      HasCrCard  IsActiveMember  EstimatedSalary  Exited  \n",
            "6252          0               0         41788.37       0  \n",
            "4684          1               1        146379.30       0  \n",
            "1731          1               0         58561.31       0  \n",
            "4742          1               1        170679.74       0  \n",
            "4521          1               1        114669.79       0  \n",
            "...         ...             ...              ...     ...  \n",
            "6412          0               1         45038.29       1  \n",
            "8285          0               1        109895.16       0  \n",
            "7853          1               0         33373.26       1  \n",
            "1095          1               0         76755.99       1  \n",
            "6929          1               1        107674.30       1  \n",
            "\n",
            "[2000 rows x 11 columns]\n"
          ]
        }
      ]
    },
    {
      "cell_type": "code",
      "source": [
        "print(train_data)"
      ],
      "metadata": {
        "colab": {
          "base_uri": "https://localhost:8080/"
        },
        "id": "nHUaIP66T3Nt",
        "outputId": "d583b3aa-1a9e-4182-b443-ae002dcec9a1"
      },
      "execution_count": 63,
      "outputs": [
        {
          "output_type": "stream",
          "name": "stdout",
          "text": [
            "      CreditScore  Geography  Gender  Age  Tenure    Balance  NumOfProducts  \\\n",
            "9254          686          0       1   32       6       0.00              2   \n",
            "1561          632          1       1   42       4  119624.60              2   \n",
            "1670          559          2       1   24       3  114739.92              1   \n",
            "6087          561          0       0   27       9  135637.00              1   \n",
            "6669          517          0       1   56       9  142147.32              1   \n",
            "...           ...        ...     ...  ...     ...        ...            ...   \n",
            "5734          768          0       1   54       8   69712.74              1   \n",
            "5191          682          0       0   58       1       0.00              1   \n",
            "5390          735          0       0   38       1       0.00              3   \n",
            "860           667          0       1   43       8  190227.46              1   \n",
            "7270          697          1       1   51       1  147910.30              1   \n",
            "\n",
            "      HasCrCard  IsActiveMember  EstimatedSalary  Exited  \n",
            "9254          1               1        179093.26       0  \n",
            "1561          1               1        195978.86       0  \n",
            "1670          1               0         85891.02       1  \n",
            "6087          1               0        153080.40       1  \n",
            "6669          0               0         39488.04       1  \n",
            "...         ...             ...              ...     ...  \n",
            "5734          1               1         69381.05       0  \n",
            "5191          1               1           706.50       0  \n",
            "5390          0               0         92220.12       1  \n",
            "860           1               0         97508.04       1  \n",
            "7270          1               1         53581.14       0  \n",
            "\n",
            "[8000 rows x 11 columns]\n"
          ]
        }
      ]
    },
    {
      "cell_type": "code",
      "source": [
        "train_data.to_csv(\"train.csv\", index=False)\n",
        "test_data.to_csv(\"test.csv\", index=False)"
      ],
      "metadata": {
        "id": "rH0dnB_pT9jt"
      },
      "execution_count": 64,
      "outputs": []
    },
    {
      "cell_type": "code",
      "source": [
        "#Carga de dataset Train\n",
        "data = pd.read_csv('/content/train.csv')"
      ],
      "metadata": {
        "id": "98G_hJqKUvC9"
      },
      "execution_count": 65,
      "outputs": []
    },
    {
      "cell_type": "code",
      "source": [
        "X = data.iloc[:, :10]\n",
        "y = data.iloc[:, 10]\n",
        "m = y.size\n",
        "print(X)\n",
        "print('*'*30)\n",
        "print(y)\n"
      ],
      "metadata": {
        "id": "xrylv5DMX94G",
        "outputId": "e06073b2-33ba-4b8f-a95c-3259b7956e71",
        "colab": {
          "base_uri": "https://localhost:8080/"
        }
      },
      "execution_count": 66,
      "outputs": [
        {
          "output_type": "stream",
          "name": "stdout",
          "text": [
            "      CreditScore  Geography  Gender  Age  Tenure    Balance  NumOfProducts  \\\n",
            "0             686          0       1   32       6       0.00              2   \n",
            "1             632          1       1   42       4  119624.60              2   \n",
            "2             559          2       1   24       3  114739.92              1   \n",
            "3             561          0       0   27       9  135637.00              1   \n",
            "4             517          0       1   56       9  142147.32              1   \n",
            "...           ...        ...     ...  ...     ...        ...            ...   \n",
            "7995          768          0       1   54       8   69712.74              1   \n",
            "7996          682          0       0   58       1       0.00              1   \n",
            "7997          735          0       0   38       1       0.00              3   \n",
            "7998          667          0       1   43       8  190227.46              1   \n",
            "7999          697          1       1   51       1  147910.30              1   \n",
            "\n",
            "      HasCrCard  IsActiveMember  EstimatedSalary  \n",
            "0             1               1        179093.26  \n",
            "1             1               1        195978.86  \n",
            "2             1               0         85891.02  \n",
            "3             1               0        153080.40  \n",
            "4             0               0         39488.04  \n",
            "...         ...             ...              ...  \n",
            "7995          1               1         69381.05  \n",
            "7996          1               1           706.50  \n",
            "7997          0               0         92220.12  \n",
            "7998          1               0         97508.04  \n",
            "7999          1               1         53581.14  \n",
            "\n",
            "[8000 rows x 10 columns]\n",
            "******************************\n",
            "0       0\n",
            "1       0\n",
            "2       1\n",
            "3       1\n",
            "4       1\n",
            "       ..\n",
            "7995    0\n",
            "7996    0\n",
            "7997    1\n",
            "7998    1\n",
            "7999    0\n",
            "Name: Exited, Length: 8000, dtype: int64\n"
          ]
        }
      ]
    },
    {
      "cell_type": "code",
      "source": [
        "def  featureNormalize(X):\n",
        "    X_norm = X.copy()\n",
        "    mu = np.zeros(X.shape[1])\n",
        "    sigma = np.zeros(X.shape[1])\n",
        "\n",
        "    mu = np.mean(X, axis = 0)\n",
        "    sigma = np.std(X, axis = 0)\n",
        "    X_norm = (X - mu) / sigma\n",
        "\n",
        "    return X_norm, mu, sigma"
      ],
      "metadata": {
        "id": "eAvruPTlpLYL"
      },
      "execution_count": 67,
      "outputs": []
    },
    {
      "cell_type": "code",
      "source": [
        "# llama featureNormalize con los datos cargados\n",
        "X_norm, mu, sigma = featureNormalize(X)\n",
        "\n",
        "print(X)\n",
        "print('Media calculada:', mu)\n",
        "print('Desviación estandar calculada:', sigma)\n",
        "print(X_norm)"
      ],
      "metadata": {
        "colab": {
          "base_uri": "https://localhost:8080/"
        },
        "id": "MV2XrzmTpN4G",
        "outputId": "d5a109e3-f4d0-4e95-97dc-722424c9bc11"
      },
      "execution_count": 68,
      "outputs": [
        {
          "output_type": "stream",
          "name": "stdout",
          "text": [
            "      CreditScore  Geography  Gender  Age  Tenure    Balance  NumOfProducts  \\\n",
            "0             686          0       1   32       6       0.00              2   \n",
            "1             632          1       1   42       4  119624.60              2   \n",
            "2             559          2       1   24       3  114739.92              1   \n",
            "3             561          0       0   27       9  135637.00              1   \n",
            "4             517          0       1   56       9  142147.32              1   \n",
            "...           ...        ...     ...  ...     ...        ...            ...   \n",
            "7995          768          0       1   54       8   69712.74              1   \n",
            "7996          682          0       0   58       1       0.00              1   \n",
            "7997          735          0       0   38       1       0.00              3   \n",
            "7998          667          0       1   43       8  190227.46              1   \n",
            "7999          697          1       1   51       1  147910.30              1   \n",
            "\n",
            "      HasCrCard  IsActiveMember  EstimatedSalary  \n",
            "0             1               1        179093.26  \n",
            "1             1               1        195978.86  \n",
            "2             1               0         85891.02  \n",
            "3             1               0        153080.40  \n",
            "4             0               0         39488.04  \n",
            "...         ...             ...              ...  \n",
            "7995          1               1         69381.05  \n",
            "7996          1               1           706.50  \n",
            "7997          0               0         92220.12  \n",
            "7998          1               0         97508.04  \n",
            "7999          1               1         53581.14  \n",
            "\n",
            "[8000 rows x 10 columns]\n",
            "Media calculada: CreditScore           651.647625\n",
            "Geography               0.750125\n",
            "Gender                  0.545250\n",
            "Age                    38.897750\n",
            "Tenure                  5.003875\n",
            "Balance             76102.139645\n",
            "NumOfProducts           1.531375\n",
            "HasCrCard               0.703500\n",
            "IsActiveMember          0.512750\n",
            "EstimatedSalary    100431.289764\n",
            "dtype: float64\n",
            "Desviación estandar calculada: CreditScore           96.360177\n",
            "Geography              0.828364\n",
            "Gender                 0.497948\n",
            "Age                   10.518296\n",
            "Tenure                 2.881642\n",
            "Balance            62457.101822\n",
            "NumOfProducts          0.579669\n",
            "HasCrCard              0.456714\n",
            "IsActiveMember         0.499837\n",
            "EstimatedSalary    57515.325387\n",
            "dtype: float64\n",
            "      CreditScore  Geography    Gender       Age    Tenure   Balance  \\\n",
            "0        0.356500  -0.905550  0.913248 -0.655786  0.345680 -1.218471   \n",
            "1       -0.203898   0.301649  0.913248  0.294938 -0.348369  0.696838   \n",
            "2       -0.961472   1.508847  0.913248 -1.416365 -0.695393  0.618629   \n",
            "3       -0.940717  -0.905550 -1.094993 -1.131148  1.386753  0.953212   \n",
            "4       -1.397337  -0.905550  0.913248  1.625953  1.386753  1.057449   \n",
            "...           ...        ...       ...       ...       ...       ...   \n",
            "7995     1.207474  -0.905550  0.913248  1.435808  1.039728 -0.102301   \n",
            "7996     0.314989  -0.905550 -1.094993  1.816097 -1.389442 -1.218471   \n",
            "7997     0.865009  -0.905550 -1.094993 -0.085351 -1.389442 -1.218471   \n",
            "7998     0.159323  -0.905550  0.913248  0.390011  1.039728  1.827259   \n",
            "7999     0.470655   0.301649  0.913248  1.150590 -1.389442  1.149720   \n",
            "\n",
            "      NumOfProducts  HasCrCard  IsActiveMember  EstimatedSalary  \n",
            "0          0.808436   0.649203        0.974817         1.367670  \n",
            "1          0.808436   0.649203        0.974817         1.661254  \n",
            "2         -0.916688   0.649203       -1.025834        -0.252807  \n",
            "3         -0.916688   0.649203       -1.025834         0.915393  \n",
            "4         -0.916688  -1.540351       -1.025834        -1.059600  \n",
            "...             ...        ...             ...              ...  \n",
            "7995      -0.916688   0.649203        0.974817        -0.539860  \n",
            "7996      -0.916688   0.649203        0.974817        -1.733882  \n",
            "7997       2.533560  -1.540351       -1.025834        -0.142765  \n",
            "7998      -0.916688   0.649203       -1.025834        -0.050826  \n",
            "7999      -0.916688   0.649203        0.974817        -0.814568  \n",
            "\n",
            "[8000 rows x 10 columns]\n"
          ]
        }
      ]
    },
    {
      "cell_type": "code",
      "source": [
        "def sigmoid(z):\n",
        "    # Calcula la sigmoide de una entrada z\n",
        "    # Convierte la entrada a un arreglo numpy\n",
        "    z = np.array(z)\n",
        "\n",
        "    # Limita los valores de z para evitar overflow\n",
        "    z = np.clip(z, -500, 500)\n",
        "\n",
        "    g = 1 / (1 + np.exp(-z))\n",
        "\n",
        "    return g"
      ],
      "metadata": {
        "id": "_PCYpWteZ5Ar"
      },
      "execution_count": 69,
      "outputs": []
    },
    {
      "cell_type": "code",
      "source": [
        "# Configurar la matriz adecuadamente, y agregar una columna de unos que corresponde al termino de intercepción.\n",
        "m, n = X.shape\n",
        "# Agraga el termino de intercepción a A\n",
        "X = np.concatenate([np.ones((m, 1)), X], axis=1)"
      ],
      "metadata": {
        "id": "zvvROqAMZ_Gb"
      },
      "execution_count": 70,
      "outputs": []
    },
    {
      "cell_type": "code",
      "source": [
        "print(X)"
      ],
      "metadata": {
        "id": "nY-oXwiaaIzm",
        "outputId": "81bed181-c18f-44c7-c2c4-a4e17def17ab",
        "colab": {
          "base_uri": "https://localhost:8080/"
        }
      },
      "execution_count": 71,
      "outputs": [
        {
          "output_type": "stream",
          "name": "stdout",
          "text": [
            "[[1.00 686.00 0.00 ... 1.00 1.00 179093.26]\n",
            " [1.00 632.00 1.00 ... 1.00 1.00 195978.86]\n",
            " [1.00 559.00 2.00 ... 1.00 0.00 85891.02]\n",
            " ...\n",
            " [1.00 735.00 0.00 ... 0.00 0.00 92220.12]\n",
            " [1.00 667.00 0.00 ... 1.00 0.00 97508.04]\n",
            " [1.00 697.00 1.00 ... 1.00 1.00 53581.14]]\n"
          ]
        }
      ]
    },
    {
      "cell_type": "code",
      "source": [
        "def calcularCosto(theta, X, y):\n",
        "    # Inicializar algunos valores utiles\n",
        "    m = y.size  # numero de ejemplos de entrenamiento\n",
        "    #epsilon = 1e-8\n",
        "\n",
        "    J = 0\n",
        "    h = sigmoid(X.dot(theta.T))\n",
        "\n",
        "    epsilon = 1e-10  # Un valor pequeño para evitar divisiones por cero\n",
        "    J = (1 / m) * np.sum(-y.dot(np.log(h + epsilon)) - (1 - y).dot(np.log(1 - h + epsilon)))\n",
        "\n",
        "    # J = (1 / m) * np.sum(-y.dot(np.log(h)) - (1 - y).dot(np.log(1 - h)))\n",
        "\n",
        "    return J"
      ],
      "metadata": {
        "id": "P1nOAEy3aS1Q"
      },
      "execution_count": 72,
      "outputs": []
    },
    {
      "cell_type": "code",
      "source": [
        "def descensoGradiente(theta, X, y, alpha, num_iters):\n",
        "    # Inicializa algunos valores\n",
        "    m = y.shape[0] # numero de ejemplos de entrenamiento\n",
        "\n",
        "    # realiza una copia de theta, el cual será acutalizada por el descenso por el gradiente\n",
        "    theta = theta.copy()\n",
        "    J_history = []\n",
        "\n",
        "    for i in range(num_iters):\n",
        "        h = sigmoid(X.dot(theta.T))\n",
        "        theta = theta - (alpha / m) * (h - y).dot(X)\n",
        "\n",
        "        J_history.append(calcularCosto(theta, X, y))\n",
        "    return theta, J_history"
      ],
      "metadata": {
        "id": "FG-ehlqnaXIT"
      },
      "execution_count": 73,
      "outputs": []
    },
    {
      "cell_type": "code",
      "source": [
        "#Carga de dataset TEST\n",
        "data = pd.read_csv('/content/test.csv')\n",
        "print(data)"
      ],
      "metadata": {
        "colab": {
          "base_uri": "https://localhost:8080/"
        },
        "id": "PbcqWTWTWdG-",
        "outputId": "f33397c2-a7d6-4578-b570-4a64ceb44b96"
      },
      "execution_count": 77,
      "outputs": [
        {
          "output_type": "stream",
          "name": "stdout",
          "text": [
            "      CreditScore  Geography  Gender  Age  Tenure    Balance  NumOfProducts  \\\n",
            "0             596          1       1   32       3   96709.07              2   \n",
            "1             623          0       1   43       1       0.00              2   \n",
            "2             601          2       0   44       4       0.00              2   \n",
            "3             506          1       1   59       8  119152.10              2   \n",
            "4             560          2       0   27       7  124995.98              1   \n",
            "...           ...        ...     ...  ...     ...        ...            ...   \n",
            "1995          602          1       0   53       5   98268.84              1   \n",
            "1996          609          0       1   25      10       0.00              1   \n",
            "1997          730          0       0   47       7       0.00              1   \n",
            "1998          692          0       1   29       4       0.00              1   \n",
            "1999          628          1       1   39       1  115341.19              1   \n",
            "\n",
            "      HasCrCard  IsActiveMember  EstimatedSalary  Exited  \n",
            "0             0               0         41788.37       0  \n",
            "1             1               1        146379.30       0  \n",
            "2             1               0         58561.31       0  \n",
            "3             1               1        170679.74       0  \n",
            "4             1               1        114669.79       0  \n",
            "...         ...             ...              ...     ...  \n",
            "1995          0               1         45038.29       1  \n",
            "1996          0               1        109895.16       0  \n",
            "1997          1               0         33373.26       1  \n",
            "1998          1               0         76755.99       1  \n",
            "1999          1               1        107674.30       1  \n",
            "\n",
            "[2000 rows x 11 columns]\n"
          ]
        }
      ]
    },
    {
      "cell_type": "code",
      "source": [
        "# Configurar las opciones de impresión para evitar la notación científica y separar por comas\n",
        "np.set_printoptions(suppress=True, formatter={'float_kind': '{:.2f}'.format})\n",
        "\n",
        "# Elegir cualquier fila del data para la prueba\n",
        "fila_deseada = 2\n",
        "\n",
        "if fila_deseada < len(data):\n",
        "    fila_completa = data.iloc[fila_deseada].to_numpy()\n",
        "    print(','.join(map(str, fila_completa)))\n",
        "else:\n",
        "    print(\"La fila no existe\")"
      ],
      "metadata": {
        "colab": {
          "base_uri": "https://localhost:8080/"
        },
        "id": "NZCo_9W2Ng8o",
        "outputId": "d2c83b4b-ecc2-468c-915b-1a808448336d"
      },
      "execution_count": 78,
      "outputs": [
        {
          "output_type": "stream",
          "name": "stdout",
          "text": [
            "601.0,2.0,0.0,44.0,4.0,0.0,2.0,1.0,0.0,58561.31,0.0\n"
          ]
        }
      ]
    },
    {
      "cell_type": "code",
      "source": [
        "# Elegir algun valor para alpha (probar varias alternativas)\n",
        "alpha = 0.0001\n",
        "num_iters = 1000\n",
        "\n",
        "# inicializa theta y ejecuta el descenso por el gradiente\n",
        "theta = np.zeros(11)\n",
        "theta, J_history = descensoGradiente(theta, X, y, alpha, num_iters)\n",
        "\n",
        "# Grafica la convergencia del costo\n",
        "pyplot.plot(np.arange(len(J_history)), J_history, lw=2)\n",
        "pyplot.xlabel('Numero de iteraciones')\n",
        "pyplot.ylabel('Costo J')\n",
        "\n",
        "# Muestra los resultados del descenso por el gradiente\n",
        "print('theta calculado por el descenso por el gradiente: {:s}'.format(str(theta)))\n",
        "\n",
        "# verificar si ingresa o no a la universidad\n",
        "X_array = [1, 601.0,2.0,0.0,44.0,4.0,0.0,2.0,1.0,0.0,58561.31]\n",
        "aprueba = sigmoid(np.dot(X_array, theta))   # Se debe cambiar esto\n",
        "\n",
        "print('El resaultado entre falso o verdadero es (usando el descenso por el gradiente):{:.0f}'.format(aprueba))"
      ],
      "metadata": {
        "id": "rWWlA1aWadJm",
        "outputId": "07f4ac81-df5c-4e26-c2f4-ffd1c395b031",
        "colab": {
          "base_uri": "https://localhost:8080/",
          "height": 486
        }
      },
      "execution_count": 79,
      "outputs": [
        {
          "output_type": "stream",
          "name": "stdout",
          "text": [
            "theta calculado por el descenso por el gradiente: [-0.00 -0.95 0.00 -0.00 0.07 -0.01 -2.14 -0.00 -0.00 -0.00 -3.82]\n",
            "El resaultado entre falso o verdadero es (usando el descenso por el gradiente):0\n"
          ]
        },
        {
          "output_type": "display_data",
          "data": {
            "text/plain": [
              "<Figure size 640x480 with 1 Axes>"
            ],
            "image/png": "[encoded data removed]"
          },
          "metadata": {}
        }
      ]
    }
  ],
  "metadata": {
    "colab": {
      "provenance": []
    },
    "kernelspec": {
      "display_name": "Python 3",
      "name": "python3"
    }
  },
  "nbformat": 4,
  "nbformat_minor": 0
}