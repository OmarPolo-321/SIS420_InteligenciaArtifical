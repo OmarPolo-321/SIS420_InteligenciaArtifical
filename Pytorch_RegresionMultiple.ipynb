{
  "nbformat": 4,
  "nbformat_minor": 0,
  "metadata": {
    "colab": {
      "provenance": [],
      "gpuType": "T4"
    },
    "kernelspec": {
      "name": "python3",
      "display_name": "Python 3"
    },
    "language_info": {
      "name": "python"
    },
    "accelerator": "GPU"
  },
  "cells": [
    {
      "cell_type": "code",
      "execution_count": 1,
      "metadata": {
        "id": "WFhJjWUa-AcN"
      },
      "outputs": [],
      "source": [
        "import torch\n",
        "import numpy as np\n",
        "import pandas as pd\n"
      ]
    },
    {
      "cell_type": "code",
      "source": [
        "data = pd.read_csv('/content/House Price India.csv')\n",
        "print(data)"
      ],
      "metadata": {
        "colab": {
          "base_uri": "https://localhost:8080/"
        },
        "id": "1C29SCzU_CL_",
        "outputId": "73c4363a-1c4a-4945-aa5d-56427898816f"
      },
      "execution_count": 2,
      "outputs": [
        {
          "output_type": "stream",
          "name": "stdout",
          "text": [
            "               id   Date  number of bedrooms  number of bathrooms  \\\n",
            "0      6762810145  42491                   5                 2.50   \n",
            "1      6762810635  42491                   4                 2.50   \n",
            "2      6762810998  42491                   5                 2.75   \n",
            "3      6762812605  42491                   4                 2.50   \n",
            "4      6762812919  42491                   3                 2.00   \n",
            "...           ...    ...                 ...                  ...   \n",
            "14615  6762830250  42734                   2                 1.50   \n",
            "14616  6762830339  42734                   3                 2.00   \n",
            "14617  6762830618  42734                   2                 1.00   \n",
            "14618  6762830709  42734                   4                 1.00   \n",
            "14619  6762831463  42734                   3                 1.00   \n",
            "\n",
            "       living area  lot area  number of floors  waterfront present  \\\n",
            "0             3650      9050               2.0                   0   \n",
            "1             2920      4000               1.5                   0   \n",
            "2             2910      9480               1.5                   0   \n",
            "3             3310     42998               2.0                   0   \n",
            "4             2710      4500               1.5                   0   \n",
            "...            ...       ...               ...                 ...   \n",
            "14615         1556     20000               1.0                   0   \n",
            "14616         1680      7000               1.5                   0   \n",
            "14617         1070      6120               1.0                   0   \n",
            "14618         1030      6621               1.0                   0   \n",
            "14619          900      4770               1.0                   0   \n",
            "\n",
            "       number of views  condition of the house  ...  Built Year  \\\n",
            "0                    4                       5  ...        1921   \n",
            "1                    0                       5  ...        1909   \n",
            "2                    0                       3  ...        1939   \n",
            "3                    0                       3  ...        2001   \n",
            "4                    0                       4  ...        1929   \n",
            "...                ...                     ...  ...         ...   \n",
            "14615                0                       4  ...        1957   \n",
            "14616                0                       4  ...        1968   \n",
            "14617                0                       3  ...        1962   \n",
            "14618                0                       4  ...        1955   \n",
            "14619                0                       3  ...        1969   \n",
            "\n",
            "       Renovation Year  Postal Code  Lattitude  Longitude  living_area_renov  \\\n",
            "0                    0       122003    52.8645   -114.557               2880   \n",
            "1                    0       122004    52.8878   -114.470               2470   \n",
            "2                    0       122004    52.8852   -114.468               2940   \n",
            "3                    0       122005    52.9532   -114.321               3350   \n",
            "4                    0       122006    52.9047   -114.485               2060   \n",
            "...                ...          ...        ...        ...                ...   \n",
            "14615                0       122066    52.6191   -114.472               2250   \n",
            "14616                0       122072    52.5075   -114.393               1540   \n",
            "14617                0       122056    52.7289   -114.507               1130   \n",
            "14618                0       122042    52.7157   -114.411               1420   \n",
            "14619             2009       122018    52.5338   -114.552                900   \n",
            "\n",
            "       lot_area_renov  Number of schools nearby  Distance from the airport  \\\n",
            "0                5400                         2                         58   \n",
            "1                4000                         2                         51   \n",
            "2                6600                         1                         53   \n",
            "3               42847                         3                         76   \n",
            "4                4500                         1                         51   \n",
            "...               ...                       ...                        ...   \n",
            "14615           17286                         3                         76   \n",
            "14616            7480                         3                         59   \n",
            "14617            6120                         2                         64   \n",
            "14618            6631                         3                         54   \n",
            "14619            3480                         2                         55   \n",
            "\n",
            "         Price  \n",
            "0      2380000  \n",
            "1      1400000  \n",
            "2      1200000  \n",
            "3       838000  \n",
            "4       805000  \n",
            "...        ...  \n",
            "14615   221700  \n",
            "14616   219200  \n",
            "14617   209000  \n",
            "14618   205000  \n",
            "14619   146000  \n",
            "\n",
            "[14620 rows x 23 columns]\n"
          ]
        }
      ]
    },
    {
      "cell_type": "code",
      "source": [
        "data.info()"
      ],
      "metadata": {
        "colab": {
          "base_uri": "https://localhost:8080/"
        },
        "id": "jPj4Rc_BSenV",
        "outputId": "d59fedbd-6557-454f-86e0-f87648f01eee"
      },
      "execution_count": 3,
      "outputs": [
        {
          "output_type": "stream",
          "name": "stdout",
          "text": [
            "<class 'pandas.core.frame.DataFrame'>\n",
            "RangeIndex: 14620 entries, 0 to 14619\n",
            "Data columns (total 23 columns):\n",
            " #   Column                                 Non-Null Count  Dtype  \n",
            "---  ------                                 --------------  -----  \n",
            " 0   id                                     14620 non-null  int64  \n",
            " 1   Date                                   14620 non-null  int64  \n",
            " 2   number of bedrooms                     14620 non-null  int64  \n",
            " 3   number of bathrooms                    14620 non-null  float64\n",
            " 4   living area                            14620 non-null  int64  \n",
            " 5   lot area                               14620 non-null  int64  \n",
            " 6   number of floors                       14620 non-null  float64\n",
            " 7   waterfront present                     14620 non-null  int64  \n",
            " 8   number of views                        14620 non-null  int64  \n",
            " 9   condition of the house                 14620 non-null  int64  \n",
            " 10  grade of the house                     14620 non-null  int64  \n",
            " 11  Area of the house(excluding basement)  14620 non-null  int64  \n",
            " 12  Area of the basement                   14620 non-null  int64  \n",
            " 13  Built Year                             14620 non-null  int64  \n",
            " 14  Renovation Year                        14620 non-null  int64  \n",
            " 15  Postal Code                            14620 non-null  int64  \n",
            " 16  Lattitude                              14620 non-null  float64\n",
            " 17  Longitude                              14620 non-null  float64\n",
            " 18  living_area_renov                      14620 non-null  int64  \n",
            " 19  lot_area_renov                         14620 non-null  int64  \n",
            " 20  Number of schools nearby               14620 non-null  int64  \n",
            " 21  Distance from the airport              14620 non-null  int64  \n",
            " 22  Price                                  14620 non-null  int64  \n",
            "dtypes: float64(4), int64(19)\n",
            "memory usage: 2.6 MB\n"
          ]
        }
      ]
    },
    {
      "cell_type": "code",
      "source": [
        "columnas_eliminar = ['id','Postal Code','Date']\n",
        "data = data.drop(columnas_eliminar, axis=1)"
      ],
      "metadata": {
        "id": "kenznR7o_ueV"
      },
      "execution_count": 4,
      "outputs": []
    },
    {
      "cell_type": "code",
      "source": [
        "#convertir a entero,\n",
        "data['number of bathrooms'] =data['number of bathrooms'].astype(int)\n",
        "data['number of floors'] =data['number of floors'].astype(int)"
      ],
      "metadata": {
        "id": "6VEk7d11_0f2"
      },
      "execution_count": 5,
      "outputs": []
    },
    {
      "cell_type": "code",
      "source": [
        "data.info()"
      ],
      "metadata": {
        "colab": {
          "base_uri": "https://localhost:8080/"
        },
        "id": "tC84CyeT_3_d",
        "outputId": "e21e40e4-c66b-4b2b-8d88-0dcce3c58de2"
      },
      "execution_count": 6,
      "outputs": [
        {
          "output_type": "stream",
          "name": "stdout",
          "text": [
            "<class 'pandas.core.frame.DataFrame'>\n",
            "RangeIndex: 14620 entries, 0 to 14619\n",
            "Data columns (total 20 columns):\n",
            " #   Column                                 Non-Null Count  Dtype  \n",
            "---  ------                                 --------------  -----  \n",
            " 0   number of bedrooms                     14620 non-null  int64  \n",
            " 1   number of bathrooms                    14620 non-null  int64  \n",
            " 2   living area                            14620 non-null  int64  \n",
            " 3   lot area                               14620 non-null  int64  \n",
            " 4   number of floors                       14620 non-null  int64  \n",
            " 5   waterfront present                     14620 non-null  int64  \n",
            " 6   number of views                        14620 non-null  int64  \n",
            " 7   condition of the house                 14620 non-null  int64  \n",
            " 8   grade of the house                     14620 non-null  int64  \n",
            " 9   Area of the house(excluding basement)  14620 non-null  int64  \n",
            " 10  Area of the basement                   14620 non-null  int64  \n",
            " 11  Built Year                             14620 non-null  int64  \n",
            " 12  Renovation Year                        14620 non-null  int64  \n",
            " 13  Lattitude                              14620 non-null  float64\n",
            " 14  Longitude                              14620 non-null  float64\n",
            " 15  living_area_renov                      14620 non-null  int64  \n",
            " 16  lot_area_renov                         14620 non-null  int64  \n",
            " 17  Number of schools nearby               14620 non-null  int64  \n",
            " 18  Distance from the airport              14620 non-null  int64  \n",
            " 19  Price                                  14620 non-null  int64  \n",
            "dtypes: float64(2), int64(18)\n",
            "memory usage: 2.2 MB\n"
          ]
        }
      ]
    },
    {
      "cell_type": "code",
      "source": [
        "data.to_csv(\"nuevodata.csv\",index=False)"
      ],
      "metadata": {
        "id": "90SOhLmm_-hs"
      },
      "execution_count": 7,
      "outputs": []
    },
    {
      "cell_type": "code",
      "source": [
        "data = np.loadtxt(\"/content/nuevodata.csv\", delimiter=',',skiprows=1)\n",
        "# print(data)\n",
        "X = data[:, :19]\n",
        "Y = data[:, 19]\n",
        "print(X.shape)\n",
        "print(Y.shape)"
      ],
      "metadata": {
        "colab": {
          "base_uri": "https://localhost:8080/"
        },
        "id": "5UTD01kR-VXv",
        "outputId": "24c6b882-3dce-4b64-c9ab-040d825e6bff"
      },
      "execution_count": 8,
      "outputs": [
        {
          "output_type": "stream",
          "name": "stdout",
          "text": [
            "(14620, 19)\n",
            "(14620,)\n"
          ]
        }
      ]
    },
    {
      "cell_type": "code",
      "source": [
        "print(data)"
      ],
      "metadata": {
        "colab": {
          "base_uri": "https://localhost:8080/"
        },
        "id": "BY7ViaA3A-Ge",
        "outputId": "2d3833ed-1d40-44c6-b59e-c695f04a5de5"
      },
      "execution_count": 9,
      "outputs": [
        {
          "output_type": "stream",
          "name": "stdout",
          "text": [
            "[[5.00e+00 2.00e+00 3.65e+03 ... 2.00e+00 5.80e+01 2.38e+06]\n",
            " [4.00e+00 2.00e+00 2.92e+03 ... 2.00e+00 5.10e+01 1.40e+06]\n",
            " [5.00e+00 2.00e+00 2.91e+03 ... 1.00e+00 5.30e+01 1.20e+06]\n",
            " ...\n",
            " [2.00e+00 1.00e+00 1.07e+03 ... 2.00e+00 6.40e+01 2.09e+05]\n",
            " [4.00e+00 1.00e+00 1.03e+03 ... 3.00e+00 5.40e+01 2.05e+05]\n",
            " [3.00e+00 1.00e+00 9.00e+02 ... 2.00e+00 5.50e+01 1.46e+05]]\n"
          ]
        }
      ]
    },
    {
      "cell_type": "code",
      "source": [
        "X_train=X[:13000]\n",
        "X_test=X[13000:]\n",
        "# Calcular la media y la desviación estándar de cada característica en el conjunto de entrenamiento.\n",
        "mean = np.mean(X_train, axis=0)\n",
        "std = np.std(X_train, axis=0)\n",
        "# Normalizar los datos de entrenamiento.\n",
        "X_train_normalized = (X_train - mean) / std\n",
        "# Normalizar los datos de prueba utilizando la misma media y desviación estándar.\n",
        "X_test_normalized = (X_test - mean) / std\n",
        "\n",
        "y_train= Y[:13000]\n",
        "y_test= Y[13000:]\n"
      ],
      "metadata": {
        "id": "WJyj00HlDv13"
      },
      "execution_count": 27,
      "outputs": []
    },
    {
      "cell_type": "code",
      "source": [
        "print(X_train_normalized)"
      ],
      "metadata": {
        "colab": {
          "base_uri": "https://localhost:8080/"
        },
        "id": "R8HkGCiOEeX1",
        "outputId": "931d5e5b-38cb-4b8a-ca26-06246cda0b76"
      },
      "execution_count": 11,
      "outputs": [
        {
          "output_type": "stream",
          "name": "stdout",
          "text": [
            "[[ 1.72705986  0.31915298  1.66913586 ... -0.28333361 -0.01489274\n",
            "  -0.77654586]\n",
            " [ 0.6618334   0.31915298  0.88310036 ... -0.33749037 -0.01489274\n",
            "  -1.56144964]\n",
            " [ 1.72705986  0.31915298  0.87233275 ... -0.23691354 -1.2402448\n",
            "  -1.33719142]\n",
            " ...\n",
            " [-0.40339307  0.31915298 -0.6566678  ... -0.19931327 -0.01489274\n",
            "   1.46603639]\n",
            " [-0.40339307 -1.03495562 -1.09813979 ... -0.4061534  -1.2402448\n",
            "   1.46603639]\n",
            " [-0.40339307 -1.03495562 -0.86125238 ... -0.207166   -0.01489274\n",
            "  -0.32802941]]\n"
          ]
        }
      ]
    },
    {
      "cell_type": "code",
      "source": [
        "def softmax(x):\n",
        "    return torch.exp(x) / torch.exp(x).sum(axis=-1,keepdims=True)"
      ],
      "metadata": {
        "id": "3PlCy5aoE0S8"
      },
      "execution_count": 54,
      "outputs": []
    },
    {
      "cell_type": "code",
      "source": [
        "print(X.shape)\n",
        "print(Y.shape)\n",
        "print(\"*\"*25)\n",
        "print(X_train_normalized.shape)\n",
        "print(X_test_normalized.shape)\n",
        "print(y_train.shape)\n",
        "print(y_test.shape)"
      ],
      "metadata": {
        "colab": {
          "base_uri": "https://localhost:8080/"
        },
        "id": "63C_9sWeE988",
        "outputId": "e7d17e4e-3f4c-4f83-d840-7aea2435849a"
      },
      "execution_count": 13,
      "outputs": [
        {
          "output_type": "stream",
          "name": "stdout",
          "text": [
            "(14620, 19)\n",
            "(14620,)\n",
            "*************************\n",
            "(13000, 19)\n",
            "(1620, 19)\n",
            "(13000,)\n",
            "(1620,)\n"
          ]
        }
      ]
    },
    {
      "cell_type": "code",
      "source": [
        "torch.cuda.is_available()"
      ],
      "metadata": {
        "colab": {
          "base_uri": "https://localhost:8080/"
        },
        "id": "DvFexMW0F-FF",
        "outputId": "2e4db2ec-cbdf-4a3b-96e4-b608b6dc3813"
      },
      "execution_count": 14,
      "outputs": [
        {
          "output_type": "execute_result",
          "data": {
            "text/plain": [
              "True"
            ]
          },
          "metadata": {},
          "execution_count": 14
        }
      ]
    },
    {
      "cell_type": "code",
      "source": [
        "#class LinearRegressionModel(nn.Module):\n",
        "#    def __init__(self, input_size):\n",
        "#        super(LinearRegressionModel, self).__init__()\n",
        "#        self.linear = nn.Linear(input_size, 1)  # Una capa lineal con una sola salida.\n",
        "#\n",
        "#    def forward(self, x):\n",
        "#        return self.linear(x)\n",
        "class ModeloPersonalizado(torch.nn.Module):\n",
        "    def __init__(self, D_in, H, D_out):\n",
        "        super(ModeloPersonalizado, self).__init__()\n",
        "        self.fc1 = torch.nn.Linear(D_in, H)\n",
        "        self.relu = torch.nn.ReLU()\n",
        "        self.fc2 = torch.nn.Linear(H, D_out)  # El tamaño de salida debe coincidir con la dimensión de tus etiquetas Y\n",
        "\n",
        "    def forward(self, x):\n",
        "       x = self.fc1(x)\n",
        "       x = self.relu(x)\n",
        "       x = self.fc2(x)\n",
        "       return x\n",
        "#class ModeloConRegularizacionL1(torch.nn.Module):\n",
        "#    def __init__(self, D_in, H, D_out, l1_reg):\n",
        "#        super(ModeloConRegularizacionL1, self).__init__()\n",
        "#        self.fc1 = torch.nn.Linear(D_in, H)\n",
        "#        self.relu = torch.nn.ReLU()\n",
        "#        self.fc2 = torch.nn.Linear(H, D_out)\n",
        "\n",
        "        # Agregar regularización L2 a las capas lineales\n",
        " #       self.l1_reg = l1_reg\n",
        "\n",
        " #   def forward(self, x):\n",
        " #       x = self.fc1(x)\n",
        " #       x = self.relu(x)\n",
        " #       x = self.fc2(x)\n",
        " #       return x"
      ],
      "metadata": {
        "id": "P0F-lKYOL9H2"
      },
      "execution_count": 48,
      "outputs": []
    },
    {
      "cell_type": "code",
      "source": [
        "model=ModeloPersonalizado(19,50,1)\n",
        "#model = ModeloConRegularizacionL1(19, 100, 1, l1_reg=0.01)  # Ajusta l2_reg según tu elección\n",
        "# Codigo para saber si el modelo esta votando los datos en las cantidades correctas\n",
        "x_prueba = torch.randn(64, 19)\n",
        "print(x_prueba)\n",
        "outputs = model(x_prueba)\n",
        "outputs.shape"
      ],
      "metadata": {
        "colab": {
          "base_uri": "https://localhost:8080/"
        },
        "id": "SFrut6XMOHZe",
        "outputId": "f4a8f09f-1399-4f13-8946-22d5a8d7d8b1"
      },
      "execution_count": 49,
      "outputs": [
        {
          "output_type": "stream",
          "name": "stdout",
          "text": [
            "tensor([[-1.0117,  1.6629, -0.1525,  ..., -2.1700,  0.6719,  0.5765],\n",
            "        [-0.0904, -0.5126, -0.5900,  ..., -0.9554,  0.3880, -1.0020],\n",
            "        [ 0.8688, -0.6521,  0.2755,  ...,  0.8373,  1.3977, -0.8739],\n",
            "        ...,\n",
            "        [-2.4119, -1.2422,  0.1859,  ...,  1.7144,  0.8394, -0.3220],\n",
            "        [-0.0789,  0.9216, -0.6489,  ..., -0.3944,  0.1172,  2.3723],\n",
            "        [ 0.5168,  0.9953,  0.7675,  ..., -0.0872,  0.2100, -0.0745]])\n"
          ]
        },
        {
          "output_type": "execute_result",
          "data": {
            "text/plain": [
              "torch.Size([64, 1])"
            ]
          },
          "metadata": {},
          "execution_count": 49
        }
      ]
    },
    {
      "cell_type": "code",
      "source": [
        "import torch.nn as nn\n",
        "model.to(\"cuda\")\n",
        "#criterion = nn.MSELoss()\n",
        "#loss = criterion(outputs, targets)\n",
        "criterion = nn.L1Loss()\n",
        "optimizer = torch.optim.SGD(model.parameters(), lr=0.05)  # Ajusta lr según lo que funcione mejor\n",
        "#optimizer = torch.optim.SGD(model.parameters(), lr=0.8)\n",
        "X_t = torch.from_numpy(X_train_normalized).float().cuda()\n",
        "Y_t = torch.from_numpy(y_train).float().cuda()\n",
        "epochs = 100\n",
        "log_each = 10\n",
        "l = []\n",
        "model.train()\n",
        "for e in range(1, epochs+1):\n",
        "\n",
        "    # forward\n",
        "    y_pred = model(X_t)\n",
        "    #print(\"y_pred:\", y_pred)\n",
        "    # loss\n",
        "    loss = criterion(y_pred, Y_t)\n",
        "    l.append(loss.item())\n",
        "\n",
        "    # ponemos a cero los gradientes\n",
        "    optimizer.zero_grad()\n",
        "\n",
        "    # Backprop (calculamos todos los gradientes automáticamente)\n",
        "    loss.backward()\n",
        "    # update de los pesos\n",
        "    optimizer.step()\n",
        "\n",
        "    if not e % log_each:\n",
        "        print(f\"Epoch {e}/{epochs} Loss {np.mean(l):.5f}\")\n"
      ],
      "metadata": {
        "colab": {
          "base_uri": "https://localhost:8080/"
        },
        "id": "APRAsMlCGnBn",
        "outputId": "c5a66663-b52c-443d-cb4a-183294b1ec00"
      },
      "execution_count": 52,
      "outputs": [
        {
          "output_type": "stream",
          "name": "stdout",
          "text": [
            "Epoch 10/100 Loss 224883.15313\n",
            "Epoch 20/100 Loss 224352.42109\n",
            "Epoch 30/100 Loss 223924.16198\n",
            "Epoch 40/100 Loss 223577.83594\n",
            "Epoch 50/100 Loss 223296.72031\n",
            "Epoch 60/100 Loss 223067.09349\n",
            "Epoch 70/100 Loss 222877.69687\n",
            "Epoch 80/100 Loss 222719.86582\n",
            "Epoch 90/100 Loss 222587.01458\n",
            "Epoch 100/100 Loss 222474.12547\n"
          ]
        }
      ]
    },
    {
      "cell_type": "code",
      "source": [
        "from sklearn.metrics import accuracy_score\n",
        "\n",
        "def evaluate(x):\n",
        "    model.eval()\n",
        "    y_pred = model(x)\n",
        "    y_probas = softmax(y_pred)\n",
        "    return torch.argmax(y_probas, axis=1)\n",
        "y_pred = evaluate(torch.from_numpy(X_test).float().cuda())\n",
        "accuracy_score(y_test, y_pred.cpu().numpy())"
      ],
      "metadata": {
        "colab": {
          "base_uri": "https://localhost:8080/"
        },
        "id": "qxHVxK9JRq9_",
        "outputId": "18c2ec1f-12c9-4723-ec5c-53bb6ad2fc06"
      },
      "execution_count": 55,
      "outputs": [
        {
          "output_type": "execute_result",
          "data": {
            "text/plain": [
              "0.0"
            ]
          },
          "metadata": {},
          "execution_count": 55
        }
      ]
    }
  ]
}